{
 "cells": [
  {
   "cell_type": "markdown",
   "id": "422445fb-b651-4563-96fd-fad4ac0a871d",
   "metadata": {},
   "source": [
    "### Connection Setup:\n",
    " I created a local Kafka using Docker for this project; it was much better for me than a remote connection.\n",
    "- Connect to Kafka via Docker\n",
    "- Installed Docker Desktop on my system\n",
    "- Start Docker ***\"docker compose up -d\"***\n",
    "\n",
    "### Install kcat on my system (MacOS)  \n",
    "- brew install kcat  (in terminal)\n",
    "- kcat -h (to verify installation)\n",
    "\n",
    "### Test Reachability/connectivity to Kafka\n",
    "- \"kcat -b localhost:9092 -t cities -C -o beginning -q\n",
    "\n",
    "### Implementing Producer and Consumer mode\n",
    "- I followed the  provided starter scripts, and it was straightforward \n",
    "\n",
    "### Lab Deliverable:\n",
    "- produce messages: ***kcat -b localhost:9092 -t cities -P***\n",
    "- Consume messages: ***kcat -b localhost:9092 -t cities -C -o beginning -f Offset: %o\\Message: %s\\n'***\n"
   ]
  },
  {
   "cell_type": "markdown",
   "id": "bac26397-153c-40d5-b08a-53dff577b0b9",
   "metadata": {},
   "source": [
    "# Lab 2: Kafka for Data Streaming"
   ]
  },
  {
   "cell_type": "markdown",
   "id": "daf5c826-392c-4d76-a0c9-cf85483e4760",
   "metadata": {},
   "source": [
    "### Relevant library"
   ]
  },
  {
   "cell_type": "code",
   "execution_count": 4,
   "id": "5a3023b6-4fda-425b-86a3-08f5aa248344",
   "metadata": {},
   "outputs": [],
   "source": [
    "\n",
    "import json\n",
    "from json import loads\n",
    "from time import sleep\n",
    "from random import randint\n",
    "from datetime import datetime\n",
    "from typing import Dict, Any  # drop if unused\n",
    "\n",
    "# Third-party\n",
    "from kafka import KafkaConsumer, KafkaProducer\n"
   ]
  },
  {
   "cell_type": "markdown",
   "id": "35b34c42-e169-4c3c-a7fb-179fb03e6525",
   "metadata": {},
   "source": [
    "### Producer Mode -> Writes Data to Broker"
   ]
  },
  {
   "cell_type": "code",
   "execution_count": 5,
   "id": "390bd005-6cb0-4230-9530-7b75561ab602",
   "metadata": {},
   "outputs": [
    {
     "name": "stdout",
     "output_type": "stream",
     "text": [
      "Writing to Kafka Broker...\n",
      "Data written to topic: test-topic\n"
     ]
    }
   ],
   "source": [
    "# Function to create city data\n",
    "def make_city_data(city: str, temperature_f: int) -> Dict[str, Any]:\n",
    "    return {\n",
    "        \"city\": city,\n",
    "        \"timestamp\": datetime.now().strftime(\"%Y-%m-%d %H:%M:%S\"),\n",
    "        \"temperature_f\": temperature_f,\n",
    "    }\n",
    "\n",
    "# Kafka topic name\n",
    "topic = \"test-topic\"\n",
    "\n",
    "# Create Kafka producer\n",
    "producer = KafkaProducer(\n",
    "    bootstrap_servers=[\"localhost:9092\"],        # your local Docker Kafka\n",
    "    value_serializer=lambda v: json.dumps(v).encode(\"utf-8\")  # dict → JSON → bytes\n",
    ")\n",
    "\n",
    "# Example cities\n",
    "cities = [\n",
    "    make_city_data(\"Miami\", 85),\n",
    "    make_city_data(\"Boca Raton\", 82),\n",
    "    make_city_data(\"Tallahassee\", 78)\n",
    "]\n",
    "\n",
    "print(\"Writing to Kafka Broker...\")\n",
    "\n",
    "# Send 10 random messages\n",
    "for i in range(10):\n",
    "    data = cities[randint(0, len(cities)-1)]\n",
    "    producer.send(topic=topic, value=data)\n",
    "    sleep(1)\n",
    "\n",
    "producer.flush()\n",
    "print(f\"Data written to topic: {topic}\")"
   ]
  },
  {
   "cell_type": "markdown",
   "id": "4ce7e9f3-9c21-42ed-b153-33e5a41369ad",
   "metadata": {},
   "source": [
    "### Consumer Mode -> Reads Data from Broker"
   ]
  },
  {
   "cell_type": "code",
   "execution_count": 3,
   "id": "e73c3d4f-7b47-49f4-b473-c6dc3b066176",
   "metadata": {},
   "outputs": [
    {
     "name": "stdout",
     "output_type": "stream",
     "text": [
      "Reading Kafka Broker...\n",
      "{'city': 'Tallahassee', 'timestamp': '2025-09-22 19:48:12', 'temperature_f': 78}\n",
      "{'city': 'Boca Raton', 'timestamp': '2025-09-22 19:48:12', 'temperature_f': 82}\n",
      "{'city': 'Boca Raton', 'timestamp': '2025-09-22 19:48:12', 'temperature_f': 82}\n",
      "{'city': 'Tallahassee', 'timestamp': '2025-09-22 19:48:12', 'temperature_f': 78}\n",
      "{'city': 'Miami', 'timestamp': '2025-09-22 19:48:12', 'temperature_f': 85}\n",
      "{'city': 'Miami', 'timestamp': '2025-09-22 19:48:12', 'temperature_f': 85}\n",
      "{'city': 'Tallahassee', 'timestamp': '2025-09-22 19:48:12', 'temperature_f': 78}\n",
      "{'city': 'Tallahassee', 'timestamp': '2025-09-22 19:48:12', 'temperature_f': 78}\n",
      "{'city': 'Miami', 'timestamp': '2025-09-22 19:48:12', 'temperature_f': 85}\n",
      "{'city': 'Boca Raton', 'timestamp': '2025-09-22 19:48:12', 'temperature_f': 82}\n",
      "{'city': 'Tallahassee', 'timestamp': '2025-09-22 22:54:18', 'temperature_f': 78}\n",
      "{'city': 'Boca Raton', 'timestamp': '2025-09-22 22:54:18', 'temperature_f': 82}\n",
      "{'city': 'Tallahassee', 'timestamp': '2025-09-22 22:54:18', 'temperature_f': 78}\n",
      "{'city': 'Tallahassee', 'timestamp': '2025-09-22 22:54:18', 'temperature_f': 78}\n",
      "{'city': 'Tallahassee', 'timestamp': '2025-09-22 22:54:18', 'temperature_f': 78}\n",
      "{'city': 'Boca Raton', 'timestamp': '2025-09-22 22:54:18', 'temperature_f': 82}\n",
      "{'city': 'Miami', 'timestamp': '2025-09-22 22:54:18', 'temperature_f': 85}\n",
      "{'city': 'Boca Raton', 'timestamp': '2025-09-22 22:54:18', 'temperature_f': 82}\n",
      "{'city': 'Tallahassee', 'timestamp': '2025-09-22 22:54:18', 'temperature_f': 78}\n",
      "{'city': 'Boca Raton', 'timestamp': '2025-09-22 22:54:18', 'temperature_f': 82}\n",
      "{'city': 'Tallahassee', 'timestamp': '2025-09-22 23:07:07', 'temperature_f': 78}\n",
      "{'city': 'Miami', 'timestamp': '2025-09-22 23:07:07', 'temperature_f': 85}\n",
      "{'city': 'Miami', 'timestamp': '2025-09-22 23:07:07', 'temperature_f': 85}\n",
      "{'city': 'Tallahassee', 'timestamp': '2025-09-22 23:07:07', 'temperature_f': 78}\n",
      "{'city': 'Miami', 'timestamp': '2025-09-22 23:07:07', 'temperature_f': 85}\n",
      "{'city': 'Miami', 'timestamp': '2025-09-22 23:07:07', 'temperature_f': 85}\n",
      "{'city': 'Boca Raton', 'timestamp': '2025-09-22 23:07:07', 'temperature_f': 82}\n",
      "{'city': 'Boca Raton', 'timestamp': '2025-09-22 23:07:07', 'temperature_f': 82}\n",
      "{'city': 'Miami', 'timestamp': '2025-09-22 23:07:07', 'temperature_f': 85}\n",
      "{'city': 'Boca Raton', 'timestamp': '2025-09-22 23:07:07', 'temperature_f': 82}\n",
      "{'city': 'Boca Raton', 'timestamp': '2025-09-23 05:47:46', 'temperature_f': 82}\n",
      "{'city': 'Tallahassee', 'timestamp': '2025-09-23 05:47:46', 'temperature_f': 78}\n",
      "{'city': 'Tallahassee', 'timestamp': '2025-09-23 05:47:46', 'temperature_f': 78}\n",
      "{'city': 'Boca Raton', 'timestamp': '2025-09-23 05:47:46', 'temperature_f': 82}\n",
      "{'city': 'Boca Raton', 'timestamp': '2025-09-23 05:47:46', 'temperature_f': 82}\n",
      "{'city': 'Miami', 'timestamp': '2025-09-23 05:47:46', 'temperature_f': 85}\n",
      "{'city': 'Miami', 'timestamp': '2025-09-23 05:47:46', 'temperature_f': 85}\n",
      "{'city': 'Miami', 'timestamp': '2025-09-23 05:47:46', 'temperature_f': 85}\n",
      "{'city': 'Boca Raton', 'timestamp': '2025-09-23 05:47:46', 'temperature_f': 82}\n",
      "{'city': 'Miami', 'timestamp': '2025-09-23 05:47:46', 'temperature_f': 85}\n"
     ]
    },
    {
     "ename": "JSONDecodeError",
     "evalue": "Expecting value: line 1 column 1 (char 0)",
     "output_type": "error",
     "traceback": [
      "\u001b[0;31m---------------------------------------------------------------------------\u001b[0m",
      "\u001b[0;31mJSONDecodeError\u001b[0m                           Traceback (most recent call last)",
      "Cell \u001b[0;32mIn[3], line 25\u001b[0m\n\u001b[1;32m     22\u001b[0m \u001b[38;5;66;03m# Consume messages\u001b[39;00m\n\u001b[1;32m     23\u001b[0m \u001b[38;5;28;01mfor\u001b[39;00m message \u001b[38;5;129;01min\u001b[39;00m consumer:\n\u001b[1;32m     24\u001b[0m     \u001b[38;5;66;03m# Kafka message is bytes → decode to string → parse JSON\u001b[39;00m\n\u001b[0;32m---> 25\u001b[0m     message_dict \u001b[38;5;241m=\u001b[39m \u001b[43mloads\u001b[49m\u001b[43m(\u001b[49m\u001b[43mmessage\u001b[49m\u001b[38;5;241;43m.\u001b[39;49m\u001b[43mvalue\u001b[49m\u001b[38;5;241;43m.\u001b[39;49m\u001b[43mdecode\u001b[49m\u001b[43m(\u001b[49m\u001b[43m)\u001b[49m\u001b[43m)\u001b[49m\n\u001b[1;32m     26\u001b[0m     \u001b[38;5;28mprint\u001b[39m(message_dict)\n\u001b[1;32m     28\u001b[0m     \u001b[38;5;66;03m# Append message to CSV\u001b[39;00m\n",
      "File \u001b[0;32m~/.pyenv/versions/3.10.12/lib/python3.10/json/__init__.py:346\u001b[0m, in \u001b[0;36mloads\u001b[0;34m(s, cls, object_hook, parse_float, parse_int, parse_constant, object_pairs_hook, **kw)\u001b[0m\n\u001b[1;32m    341\u001b[0m     s \u001b[38;5;241m=\u001b[39m s\u001b[38;5;241m.\u001b[39mdecode(detect_encoding(s), \u001b[38;5;124m'\u001b[39m\u001b[38;5;124msurrogatepass\u001b[39m\u001b[38;5;124m'\u001b[39m)\n\u001b[1;32m    343\u001b[0m \u001b[38;5;28;01mif\u001b[39;00m (\u001b[38;5;28mcls\u001b[39m \u001b[38;5;129;01mis\u001b[39;00m \u001b[38;5;28;01mNone\u001b[39;00m \u001b[38;5;129;01mand\u001b[39;00m object_hook \u001b[38;5;129;01mis\u001b[39;00m \u001b[38;5;28;01mNone\u001b[39;00m \u001b[38;5;129;01mand\u001b[39;00m\n\u001b[1;32m    344\u001b[0m         parse_int \u001b[38;5;129;01mis\u001b[39;00m \u001b[38;5;28;01mNone\u001b[39;00m \u001b[38;5;129;01mand\u001b[39;00m parse_float \u001b[38;5;129;01mis\u001b[39;00m \u001b[38;5;28;01mNone\u001b[39;00m \u001b[38;5;129;01mand\u001b[39;00m\n\u001b[1;32m    345\u001b[0m         parse_constant \u001b[38;5;129;01mis\u001b[39;00m \u001b[38;5;28;01mNone\u001b[39;00m \u001b[38;5;129;01mand\u001b[39;00m object_pairs_hook \u001b[38;5;129;01mis\u001b[39;00m \u001b[38;5;28;01mNone\u001b[39;00m \u001b[38;5;129;01mand\u001b[39;00m \u001b[38;5;129;01mnot\u001b[39;00m kw):\n\u001b[0;32m--> 346\u001b[0m     \u001b[38;5;28;01mreturn\u001b[39;00m \u001b[43m_default_decoder\u001b[49m\u001b[38;5;241;43m.\u001b[39;49m\u001b[43mdecode\u001b[49m\u001b[43m(\u001b[49m\u001b[43ms\u001b[49m\u001b[43m)\u001b[49m\n\u001b[1;32m    347\u001b[0m \u001b[38;5;28;01mif\u001b[39;00m \u001b[38;5;28mcls\u001b[39m \u001b[38;5;129;01mis\u001b[39;00m \u001b[38;5;28;01mNone\u001b[39;00m:\n\u001b[1;32m    348\u001b[0m     \u001b[38;5;28mcls\u001b[39m \u001b[38;5;241m=\u001b[39m JSONDecoder\n",
      "File \u001b[0;32m~/.pyenv/versions/3.10.12/lib/python3.10/json/decoder.py:337\u001b[0m, in \u001b[0;36mJSONDecoder.decode\u001b[0;34m(self, s, _w)\u001b[0m\n\u001b[1;32m    332\u001b[0m \u001b[38;5;28;01mdef\u001b[39;00m\u001b[38;5;250m \u001b[39m\u001b[38;5;21mdecode\u001b[39m(\u001b[38;5;28mself\u001b[39m, s, _w\u001b[38;5;241m=\u001b[39mWHITESPACE\u001b[38;5;241m.\u001b[39mmatch):\n\u001b[1;32m    333\u001b[0m \u001b[38;5;250m    \u001b[39m\u001b[38;5;124;03m\"\"\"Return the Python representation of ``s`` (a ``str`` instance\u001b[39;00m\n\u001b[1;32m    334\u001b[0m \u001b[38;5;124;03m    containing a JSON document).\u001b[39;00m\n\u001b[1;32m    335\u001b[0m \n\u001b[1;32m    336\u001b[0m \u001b[38;5;124;03m    \"\"\"\u001b[39;00m\n\u001b[0;32m--> 337\u001b[0m     obj, end \u001b[38;5;241m=\u001b[39m \u001b[38;5;28;43mself\u001b[39;49m\u001b[38;5;241;43m.\u001b[39;49m\u001b[43mraw_decode\u001b[49m\u001b[43m(\u001b[49m\u001b[43ms\u001b[49m\u001b[43m,\u001b[49m\u001b[43m \u001b[49m\u001b[43midx\u001b[49m\u001b[38;5;241;43m=\u001b[39;49m\u001b[43m_w\u001b[49m\u001b[43m(\u001b[49m\u001b[43ms\u001b[49m\u001b[43m,\u001b[49m\u001b[43m \u001b[49m\u001b[38;5;241;43m0\u001b[39;49m\u001b[43m)\u001b[49m\u001b[38;5;241;43m.\u001b[39;49m\u001b[43mend\u001b[49m\u001b[43m(\u001b[49m\u001b[43m)\u001b[49m\u001b[43m)\u001b[49m\n\u001b[1;32m    338\u001b[0m     end \u001b[38;5;241m=\u001b[39m _w(s, end)\u001b[38;5;241m.\u001b[39mend()\n\u001b[1;32m    339\u001b[0m     \u001b[38;5;28;01mif\u001b[39;00m end \u001b[38;5;241m!=\u001b[39m \u001b[38;5;28mlen\u001b[39m(s):\n",
      "File \u001b[0;32m~/.pyenv/versions/3.10.12/lib/python3.10/json/decoder.py:355\u001b[0m, in \u001b[0;36mJSONDecoder.raw_decode\u001b[0;34m(self, s, idx)\u001b[0m\n\u001b[1;32m    353\u001b[0m     obj, end \u001b[38;5;241m=\u001b[39m \u001b[38;5;28mself\u001b[39m\u001b[38;5;241m.\u001b[39mscan_once(s, idx)\n\u001b[1;32m    354\u001b[0m \u001b[38;5;28;01mexcept\u001b[39;00m \u001b[38;5;167;01mStopIteration\u001b[39;00m \u001b[38;5;28;01mas\u001b[39;00m err:\n\u001b[0;32m--> 355\u001b[0m     \u001b[38;5;28;01mraise\u001b[39;00m JSONDecodeError(\u001b[38;5;124m\"\u001b[39m\u001b[38;5;124mExpecting value\u001b[39m\u001b[38;5;124m\"\u001b[39m, s, err\u001b[38;5;241m.\u001b[39mvalue) \u001b[38;5;28;01mfrom\u001b[39;00m\u001b[38;5;250m \u001b[39m\u001b[38;5;28;01mNone\u001b[39;00m\n\u001b[1;32m    356\u001b[0m \u001b[38;5;28;01mreturn\u001b[39;00m obj, end\n",
      "\u001b[0;31mJSONDecodeError\u001b[0m: Expecting value: line 1 column 1 (char 0)"
     ]
    }
   ],
   "source": [
    "import os\n",
    "from json import loads\n",
    "# Kafka topic name\n",
    "topic = \"test-topic\"\n",
    "\n",
    "# Create Kafka consumer\n",
    "consumer = KafkaConsumer(\n",
    "    topic,                                   # topic to subscribe\n",
    "    bootstrap_servers=[\"localhost:9092\"],    # local Docker Kafka\n",
    "    auto_offset_reset=\"earliest\",            # read messages from beginning\n",
    "    enable_auto_commit=True,                 # commit offsets automatically\n",
    "    auto_commit_interval_ms=1000             # commit interval\n",
    ")\n",
    "\n",
    "print(\"Reading Kafka Broker...\")\n",
    "\n",
    "# Make sure kafka_log.csv exists (or create it)\n",
    "if not os.path.exists(\"Kafka_log.csv\"):\n",
    "    with open(\"Kafka_log.csv\", \"w\") as f:\n",
    "        f.write(\"city,timestamp,temperature_f\\n\")\n",
    "\n",
    "# Consume messages\n",
    "for message in consumer:\n",
    "    # Kafka message is bytes → decode to string → parse JSON\n",
    "    message_dict = loads(message.value.decode())\n",
    "    print(message_dict)\n",
    "\n",
    "    # Append message to CSV\n",
    "    with open(\"Kafka_log.csv\", \"a\") as f:\n",
    "        f.write(f\"{message_dict['city']},{message_dict['timestamp']},{message_dict['temperature_f']}\\n\")"
   ]
  },
  {
   "cell_type": "markdown",
   "id": "9220a49e-63d6-43b0-b9e8-9e9a88745b24",
   "metadata": {},
   "source": [
    "### Explore kcat (or CLI)!"
   ]
  },
  {
   "cell_type": "markdown",
   "id": "6e96618e-a897-4d2d-8bb1-d74eaa2e36e0",
   "metadata": {},
   "source": [
    "### List metadata and topics"
   ]
  },
  {
   "cell_type": "markdown",
   "id": "76edbdc1-3fd8-4062-b10b-601f9f3a3407",
   "metadata": {},
   "source": [
    "***List topics:***"
   ]
  },
  {
   "cell_type": "markdown",
   "id": "9529273d-3f80-4066-a78d-0e475963aa66",
   "metadata": {},
   "source": [
    "kafka-topics --describe --topic cities --bootstrap-server localhost:9092"
   ]
  },
  {
   "cell_type": "markdown",
   "id": "37f06f27-2e3a-482c-8bae-15eeac3d0f85",
   "metadata": {},
   "source": [
    "***Describe a topic:***"
   ]
  },
  {
   "cell_type": "markdown",
   "id": "3484c323-ddbf-44da-a627-d2b68a081f86",
   "metadata": {},
   "source": [
    "kafka-topics --describe --topic cities --bootstrap-server localhost:9092"
   ]
  }
 ],
 "metadata": {
  "kernelspec": {
   "display_name": "Python 3 (ipykernel)",
   "language": "python",
   "name": "python3"
  },
  "language_info": {
   "codemirror_mode": {
    "name": "ipython",
    "version": 3
   },
   "file_extension": ".py",
   "mimetype": "text/x-python",
   "name": "python",
   "nbconvert_exporter": "python",
   "pygments_lexer": "ipython3",
   "version": "3.10.12"
  }
 },
 "nbformat": 4,
 "nbformat_minor": 5
}
